{
 "cells": [
  {
   "cell_type": "markdown",
   "id": "2bd2ea79",
   "metadata": {},
   "source": [
    "# Chatbot con Python"
   ]
  },
  {
   "cell_type": "markdown",
   "id": "0d80f958",
   "metadata": {},
   "source": [
    "### Bicliotecas de referencia NLTK (Natural Language Toolkit)"
   ]
  },
  {
   "cell_type": "code",
   "execution_count": 1,
   "id": "a3ecf732",
   "metadata": {},
   "outputs": [],
   "source": [
    "import nltk\n",
    "from nltk.chat.util import Chat, reflections"
   ]
  },
  {
   "cell_type": "code",
   "execution_count": 2,
   "id": "05f8862b",
   "metadata": {},
   "outputs": [
    {
     "name": "stdout",
     "output_type": "stream",
     "text": [
      "<class 'nltk.chat.util.Chat'>\n"
     ]
    }
   ],
   "source": [
    "print(Chat)"
   ]
  },
  {
   "cell_type": "code",
   "execution_count": 4,
   "id": "93ec6c6c",
   "metadata": {},
   "outputs": [
    {
     "data": {
      "text/plain": [
       "{'i am': 'you are',\n",
       " 'i was': 'you were',\n",
       " 'i': 'you',\n",
       " \"i'm\": 'you are',\n",
       " \"i'd\": 'you would',\n",
       " \"i've\": 'you have',\n",
       " \"i'll\": 'you will',\n",
       " 'my': 'your',\n",
       " 'you are': 'I am',\n",
       " 'you were': 'I was',\n",
       " \"you've\": 'I have',\n",
       " \"you'll\": 'I will',\n",
       " 'your': 'my',\n",
       " 'yours': 'mine',\n",
       " 'you': 'me',\n",
       " 'me': 'you'}"
      ]
     },
     "execution_count": 4,
     "metadata": {},
     "output_type": "execute_result"
    }
   ],
   "source": [
    "reflections"
   ]
  },
  {
   "cell_type": "code",
   "execution_count": 9,
   "id": "15b30c3b",
   "metadata": {},
   "outputs": [],
   "source": [
    "set_pairs = [\n",
    "    [\n",
    "        r'mi nombre es (.*)',\n",
    "        ['Hola %1, Como estas hoy?',]\n",
    "    ],\n",
    "    [\n",
    "        r'hola|ola|hello',\n",
    "        ['Hola', 'Hola a todos',]\n",
    "    ],\n",
    "    [\n",
    "        r'cual es tu nombre?',\n",
    "        ['Puedes llamarme kBot',]\n",
    "    ],\n",
    "    [\n",
    "        r'como estas?',\n",
    "        ['Estoy bien, gracias!, como puedo ayudarte?',]\n",
    "    ],\n",
    "    [\n",
    "        r'como puedo ayudarte?',\n",
    "        ['estoy buscando guías y cursos online para aprender ciencia de datos, ¿me puedes sugerir?', 'estoy buscando plataformas de formación en ciencia de datos',]\n",
    "    ],\n",
    "    [\n",
    "        r'estoy (.*) haciendolo bien',\n",
    "        ['Me alegro de oírlo', '¿En qué puedo ayudarle?:)',]\n",
    "    ],\n",
    "    [\n",
    "        r'estoy buscando guías y cursos online para aprender ciencia de datos, ¿me puedes sugerir?',\n",
    "        ['Pluralsight es una gran opción para aprender ciencia de datos. Puedes consultar su página web',]\n",
    "    ],\n",
    "    [\n",
    "        r'gracias por la sugerencia. ¿tienen grandes autores e instructores?',\n",
    "        ['Sí, tienen los mejores autores del mundo, ese es su punto fuerte;)',]\n",
    "    ],\n",
    "    [\n",
    "        r'(.*) muchas gracias, ha sido de gran ayuda',\n",
    "        ['Estoy encantado de ayudarte', 'Sin problema, de nada',]\n",
    "    ],\n",
    "    [\n",
    "        r'quit',\n",
    "        ['Adiós, cuídate. Nos vemos pronto :) ', 'Ha sido un placer hablar contigo. Nos vemos pronto :)']\n",
    "    ],\n",
    "]"
   ]
  },
  {
   "cell_type": "code",
   "execution_count": 10,
   "id": "c3d0be53",
   "metadata": {},
   "outputs": [
    {
     "name": "stdout",
     "output_type": "stream",
     "text": [
      "Hola, soy el bot que has creado\n"
     ]
    }
   ],
   "source": [
    "def chatbot():\n",
    "        print('Hola, soy el bot que has creado')\n",
    "\n",
    "chatbot()"
   ]
  },
  {
   "cell_type": "code",
   "execution_count": 11,
   "id": "df813995",
   "metadata": {},
   "outputs": [
    {
     "name": "stdout",
     "output_type": "stream",
     "text": [
      "<nltk.chat.util.Chat object at 0x000001E621E1A790>\n"
     ]
    }
   ],
   "source": [
    "chat = Chat(set_pairs, reflections)\n",
    "print(chat)"
   ]
  },
  {
   "cell_type": "code",
   "execution_count": 13,
   "id": "fa0eda72",
   "metadata": {},
   "outputs": [
    {
     "name": "stdout",
     "output_type": "stream",
     "text": [
      ">hola\n",
      "Hola a todos\n",
      ">como estas?\n",
      "Estoy bien, gracias!, como puedo ayudarte?\n",
      ">estoy buscando guías y cursos online para aprender ciencia de datos, ¿me puedes sugerir?\n",
      "Pluralsight es una gran opción para aprender ciencia de datos. Puedes consultar su página web\n",
      ">gracias por la sugerencia. ¿tienen grandes autores e instructores?\n",
      "Sí, tienen los mejores autores del mundo, ese es su punto fuerte;)\n",
      ">quit\n",
      "Adiós, cuídate. Nos vemos pronto :) \n",
      "Hola, soy el bot que has creado\n"
     ]
    }
   ],
   "source": [
    "chat.converse()\n",
    "if __name__ == '__main__':\n",
    "    chatbot()"
   ]
  }
 ],
 "metadata": {
  "kernelspec": {
   "display_name": "Python 3 (ipykernel)",
   "language": "python",
   "name": "python3"
  },
  "language_info": {
   "codemirror_mode": {
    "name": "ipython",
    "version": 3
   },
   "file_extension": ".py",
   "mimetype": "text/x-python",
   "name": "python",
   "nbconvert_exporter": "python",
   "pygments_lexer": "ipython3",
   "version": "3.9.12"
  }
 },
 "nbformat": 4,
 "nbformat_minor": 5
}
